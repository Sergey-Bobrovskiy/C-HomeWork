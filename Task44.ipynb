{
  "nbformat": 4,
  "nbformat_minor": 0,
  "metadata": {
    "colab": {
      "provenance": [],
      "authorship_tag": "ABX9TyPwSEfkIin81saXrzE6D3PI",
      "include_colab_link": true
    },
    "kernelspec": {
      "name": "python3",
      "display_name": "Python 3"
    },
    "language_info": {
      "name": "python"
    }
  },
  "cells": [
    {
      "cell_type": "markdown",
      "metadata": {
        "id": "view-in-github",
        "colab_type": "text"
      },
      "source": [
        "<a href=\"https://colab.research.google.com/github/Sergey-Bobrovskiy/C-HomeWork/blob/dev/Task44.ipynb\" target=\"_parent\"><img src=\"https://colab.research.google.com/assets/colab-badge.svg\" alt=\"Open In Colab\"/></a>"
      ]
    },
    {
      "cell_type": "code",
      "execution_count": 1,
      "metadata": {
        "id": "nHftgAZJ9E0P"
      },
      "outputs": [],
      "source": []
    },
    {
      "cell_type": "code",
      "source": [
        "import pandas as pd\n",
        "import numpy as np\n",
        "import random\n",
        "\n",
        "lst = ['robot'] * 10\n",
        "lst += ['human'] * 10\n",
        "random.shuffle(lst)\n",
        "data = pd.DataFrame({'whoAmI': lst})\n",
        "print(data)\n",
        "\n",
        "print('')\n",
        "\n",
        "data['tmp'] = 1\n",
        "data.set_index([data.index, 'whoAmI'], inplace=True)\n",
        "data = data.unstack(level=-1, fill_value = 0).astype(int)\n",
        "data.columns = data.columns.droplevel()\n",
        "data.columns.name = None\n",
        "print(data)"
      ],
      "metadata": {
        "colab": {
          "base_uri": "https://localhost:8080/"
        },
        "id": "2tKE42sK9a-O",
        "outputId": "7ffa715d-3446-43b9-aade-826d63a1b279"
      },
      "execution_count": 2,
      "outputs": [
        {
          "output_type": "stream",
          "name": "stdout",
          "text": [
            "   whoAmI\n",
            "0   robot\n",
            "1   robot\n",
            "2   human\n",
            "3   human\n",
            "4   robot\n",
            "5   robot\n",
            "6   human\n",
            "7   human\n",
            "8   human\n",
            "9   human\n",
            "10  human\n",
            "11  human\n",
            "12  robot\n",
            "13  robot\n",
            "14  robot\n",
            "15  human\n",
            "16  robot\n",
            "17  human\n",
            "18  robot\n",
            "19  robot\n",
            "\n",
            "    human  robot\n",
            "0       0      1\n",
            "1       0      1\n",
            "2       1      0\n",
            "3       1      0\n",
            "4       0      1\n",
            "5       0      1\n",
            "6       1      0\n",
            "7       1      0\n",
            "8       1      0\n",
            "9       1      0\n",
            "10      1      0\n",
            "11      1      0\n",
            "12      0      1\n",
            "13      0      1\n",
            "14      0      1\n",
            "15      1      0\n",
            "16      0      1\n",
            "17      1      0\n",
            "18      0      1\n",
            "19      0      1\n"
          ]
        }
      ]
    }
  ]
}